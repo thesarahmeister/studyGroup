{
 "cells": [
  {
   "cell_type": "markdown",
   "metadata": {},
   "source": [
    "# Intro to Pandas DataFrames\n",
    "\n",
    "DataFrames are a lovely way to store data. They're essentially matrices that can store almost any type of data and are a great option for handling data where you want to keep track of rows and columns with labels. The Pandas library also comes with a handy host of functions that allow you to work with your DataFrames in very smart ways (eg. means, split-apply-combine).\n",
    "\n",
    "The Pandas website has a lot of [great documentation](http://pandas.pydata.org/pandas-docs/version/0.15.2/10min.html#min) to help you get started. However, even after reading the official tutorials, I was stumped on some problems using DataFrames. This lesson is based directly off of how I solved those problems, so hopefully some will find it helpful. \n"
   ]
  },
  {
   "cell_type": "markdown",
   "metadata": {},
   "source": [
    "<hr>"
   ]
  },
  {
   "cell_type": "markdown",
   "metadata": {},
   "source": [
    "# Creating DataFrames\n",
    "\n",
    "You can instantiate DataFrames without any data or with data from any number of sources"
   ]
  },
  {
   "cell_type": "code",
   "execution_count": 1,
   "metadata": {
    "collapsed": false
   },
   "outputs": [
    {
     "data": {
      "text/html": [
       "<div style=\"max-height:1000px;max-width:1500px;overflow:auto;\">\n",
       "<table border=\"1\" class=\"dataframe\">\n",
       "  <thead>\n",
       "    <tr style=\"text-align: right;\">\n",
       "      <th></th>\n",
       "    </tr>\n",
       "  </thead>\n",
       "  <tbody>\n",
       "  </tbody>\n",
       "</table>\n",
       "</div>"
      ],
      "text/plain": [
       "Empty DataFrame\n",
       "Columns: []\n",
       "Index: []"
      ]
     },
     "execution_count": 1,
     "metadata": {},
     "output_type": "execute_result"
    }
   ],
   "source": [
    "import pandas as pd\n",
    "import numpy as np\n",
    "\n",
    "blank = pd.DataFrame()\n",
    "\n",
    "blank"
   ]
  },
  {
   "cell_type": "code",
   "execution_count": 2,
   "metadata": {
    "collapsed": false
   },
   "outputs": [
    {
     "data": {
      "text/html": [
       "<div style=\"max-height:1000px;max-width:1500px;overflow:auto;\">\n",
       "<table border=\"1\" class=\"dataframe\">\n",
       "  <thead>\n",
       "    <tr style=\"text-align: right;\">\n",
       "      <th></th>\n",
       "      <th>Date Released</th>\n",
       "      <th>Box Office Gross</th>\n",
       "      <th>IMDB Score</th>\n",
       "      <th>Tomatometer</th>\n",
       "    </tr>\n",
       "  </thead>\n",
       "  <tbody>\n",
       "    <tr>\n",
       "      <th>Forrest Gump</th>\n",
       "      <td> 0</td>\n",
       "      <td> 0</td>\n",
       "      <td> 0</td>\n",
       "      <td> 0</td>\n",
       "    </tr>\n",
       "    <tr>\n",
       "      <th>Scanners</th>\n",
       "      <td> 0</td>\n",
       "      <td> 0</td>\n",
       "      <td> 0</td>\n",
       "      <td> 0</td>\n",
       "    </tr>\n",
       "    <tr>\n",
       "      <th>2010: Odyssey Two</th>\n",
       "      <td> 0</td>\n",
       "      <td> 0</td>\n",
       "      <td> 0</td>\n",
       "      <td> 0</td>\n",
       "    </tr>\n",
       "    <tr>\n",
       "      <th>Fern Gully</th>\n",
       "      <td> 0</td>\n",
       "      <td> 0</td>\n",
       "      <td> 0</td>\n",
       "      <td> 0</td>\n",
       "    </tr>\n",
       "  </tbody>\n",
       "</table>\n",
       "</div>"
      ],
      "text/plain": [
       "                   Date Released  Box Office Gross  IMDB Score  Tomatometer\n",
       "Forrest Gump                   0                 0           0            0\n",
       "Scanners                       0                 0           0            0\n",
       "2010: Odyssey Two              0                 0           0            0\n",
       "Fern Gully                     0                 0           0            0"
      ]
     },
     "execution_count": 2,
     "metadata": {},
     "output_type": "execute_result"
    }
   ],
   "source": [
    "movies = pd.DataFrame(np.zeros((4,4)), index=['Forrest Gump', 'Scanners', '2010: Odyssey Two', 'Fern Gully'], columns = ['Date Released', 'Box Office Gross', 'IMDB Score', 'Tomatometer'])\n",
    "\n",
    "movies"
   ]
  },
  {
   "cell_type": "code",
   "execution_count": 3,
   "metadata": {
    "collapsed": false
   },
   "outputs": [
    {
     "data": {
      "text/html": [
       "<div style=\"max-height:1000px;max-width:1500px;overflow:auto;\">\n",
       "<table border=\"1\" class=\"dataframe\">\n",
       "  <thead>\n",
       "    <tr style=\"text-align: right;\">\n",
       "      <th></th>\n",
       "      <th>0</th>\n",
       "      <th>1</th>\n",
       "      <th>2</th>\n",
       "      <th>3</th>\n",
       "      <th>4</th>\n",
       "    </tr>\n",
       "  </thead>\n",
       "  <tbody>\n",
       "    <tr>\n",
       "      <th>0</th>\n",
       "      <td> 0</td>\n",
       "      <td> 0</td>\n",
       "      <td> 0</td>\n",
       "      <td> 0</td>\n",
       "      <td> 0</td>\n",
       "    </tr>\n",
       "    <tr>\n",
       "      <th>1</th>\n",
       "      <td> 0</td>\n",
       "      <td> 0</td>\n",
       "      <td> 0</td>\n",
       "      <td> 0</td>\n",
       "      <td> 0</td>\n",
       "    </tr>\n",
       "    <tr>\n",
       "      <th>2</th>\n",
       "      <td> 0</td>\n",
       "      <td> 0</td>\n",
       "      <td> 0</td>\n",
       "      <td> 0</td>\n",
       "      <td> 0</td>\n",
       "    </tr>\n",
       "  </tbody>\n",
       "</table>\n",
       "</div>"
      ],
      "text/plain": [
       "   0  1  2  3  4\n",
       "0  0  0  0  0  0\n",
       "1  0  0  0  0  0\n",
       "2  0  0  0  0  0"
      ]
     },
     "execution_count": 3,
     "metadata": {},
     "output_type": "execute_result"
    }
   ],
   "source": [
    "zeros = pd.DataFrame(np.zeros((3,5)))\n",
    "\n",
    "zeros"
   ]
  },
  {
   "cell_type": "markdown",
   "metadata": {},
   "source": [
    "Got a csv file you want to read? No problem!"
   ]
  },
  {
   "cell_type": "code",
   "execution_count": 4,
   "metadata": {
    "collapsed": false
   },
   "outputs": [
    {
     "data": {
      "text/html": [
       "<div style=\"max-height:1000px;max-width:1500px;overflow:auto;\">\n",
       "<table border=\"1\" class=\"dataframe\">\n",
       "  <thead>\n",
       "    <tr style=\"text-align: right;\">\n",
       "      <th></th>\n",
       "      <th>Animal</th>\n",
       "      <th>Date</th>\n",
       "      <th>Group</th>\n",
       "      <th>Time to platform</th>\n",
       "      <th>Trial duration</th>\n",
       "      <th>Distance travelled (cm)</th>\n",
       "      <th>Average speed</th>\n",
       "      <th>% time near walls</th>\n",
       "      <th>Direction</th>\n",
       "      <th>Average Proximity</th>\n",
       "      <th>Cumulative Proximity</th>\n",
       "      <th>Whishaw's corridor</th>\n",
       "      <th>Platform Quadrant</th>\n",
       "      <th>Zone 1 %</th>\n",
       "      <th>Target Zone %</th>\n",
       "      <th>Zone 3 %</th>\n",
       "      <th>Zone 4 %</th>\n",
       "    </tr>\n",
       "  </thead>\n",
       "  <tbody>\n",
       "    <tr>\n",
       "      <th>1</th>\n",
       "      <td> m2</td>\n",
       "      <td> 2/1/2015</td>\n",
       "      <td> GFP</td>\n",
       "      <td> 8.235</td>\n",
       "      <td> 59.898</td>\n",
       "      <td> 1298.611</td>\n",
       "      <td> 21.680</td>\n",
       "      <td> 2.516</td>\n",
       "      <td> 52.129</td>\n",
       "      <td> 47.077</td>\n",
       "      <td> 1232.864</td>\n",
       "      <td> 37.736</td>\n",
       "      <td> 4</td>\n",
       "      <td>  4.822</td>\n",
       "      <td> 50.943</td>\n",
       "      <td> 15.514</td>\n",
       "      <td> 0.629</td>\n",
       "    </tr>\n",
       "    <tr>\n",
       "      <th>2</th>\n",
       "      <td> m3</td>\n",
       "      <td> 2/1/2015</td>\n",
       "      <td> GFP</td>\n",
       "      <td> 0.000</td>\n",
       "      <td> 59.944</td>\n",
       "      <td> 1562.190</td>\n",
       "      <td> 26.061</td>\n",
       "      <td> 2.096</td>\n",
       "      <td> -0.502</td>\n",
       "      <td> 36.535</td>\n",
       "      <td> 1799.688</td>\n",
       "      <td> 54.717</td>\n",
       "      <td> 4</td>\n",
       "      <td>  5.451</td>\n",
       "      <td> 34.382</td>\n",
       "      <td> 10.273</td>\n",
       "      <td> 3.774</td>\n",
       "    </tr>\n",
       "    <tr>\n",
       "      <th>3</th>\n",
       "      <td> m4</td>\n",
       "      <td> 2/1/2015</td>\n",
       "      <td> APP</td>\n",
       "      <td> 7.102</td>\n",
       "      <td> 59.896</td>\n",
       "      <td> 1157.948</td>\n",
       "      <td> 19.333</td>\n",
       "      <td> 0.000</td>\n",
       "      <td> 51.561</td>\n",
       "      <td> 41.952</td>\n",
       "      <td> 1392.255</td>\n",
       "      <td> 39.203</td>\n",
       "      <td> 4</td>\n",
       "      <td> 11.530</td>\n",
       "      <td> 37.945</td>\n",
       "      <td> 16.352</td>\n",
       "      <td> 0.210</td>\n",
       "    </tr>\n",
       "  </tbody>\n",
       "</table>\n",
       "</div>"
      ],
      "text/plain": [
       "  Animal      Date Group  Time to platform  Trial duration  \\\n",
       "1     m2  2/1/2015   GFP             8.235          59.898   \n",
       "2     m3  2/1/2015   GFP             0.000          59.944   \n",
       "3     m4  2/1/2015   APP             7.102          59.896   \n",
       "\n",
       "   Distance travelled (cm)  Average speed  % time near walls  Direction  \\\n",
       "1                 1298.611         21.680              2.516     52.129   \n",
       "2                 1562.190         26.061              2.096     -0.502   \n",
       "3                 1157.948         19.333              0.000     51.561   \n",
       "\n",
       "   Average Proximity  Cumulative Proximity  Whishaw's corridor  \\\n",
       "1             47.077              1232.864              37.736   \n",
       "2             36.535              1799.688              54.717   \n",
       "3             41.952              1392.255              39.203   \n",
       "\n",
       "   Platform Quadrant  Zone 1 %  Target Zone %  Zone 3 %  Zone 4 %  \n",
       "1                  4     4.822         50.943    15.514     0.629  \n",
       "2                  4     5.451         34.382    10.273     3.774  \n",
       "3                  4    11.530         37.945    16.352     0.210  "
      ]
     },
     "execution_count": 4,
     "metadata": {},
     "output_type": "execute_result"
    }
   ],
   "source": [
    "probedata = pd.read_csv('12probe20cm.csv')\n",
    "\n",
    "probedata[1:4]"
   ]
  },
  {
   "cell_type": "markdown",
   "metadata": {},
   "source": [
    "<hr>"
   ]
  },
  {
   "cell_type": "markdown",
   "metadata": {},
   "source": [
    "# Slicing DataFrames\n",
    "You can slice DataFrames just like an array, and can also include some more advanced criteria"
   ]
  },
  {
   "cell_type": "code",
   "execution_count": 5,
   "metadata": {
    "collapsed": false
   },
   "outputs": [
    {
     "data": {
      "text/html": [
       "<div style=\"max-height:1000px;max-width:1500px;overflow:auto;\">\n",
       "<table border=\"1\" class=\"dataframe\">\n",
       "  <thead>\n",
       "    <tr style=\"text-align: right;\">\n",
       "      <th></th>\n",
       "      <th>Date Released</th>\n",
       "      <th>Box Office Gross</th>\n",
       "      <th>IMDB Score</th>\n",
       "      <th>Tomatometer</th>\n",
       "    </tr>\n",
       "  </thead>\n",
       "  <tbody>\n",
       "    <tr>\n",
       "      <th>Scanners</th>\n",
       "      <td> 1981</td>\n",
       "      <td> 12</td>\n",
       "      <td> 6.8</td>\n",
       "      <td> 0.8</td>\n",
       "    </tr>\n",
       "  </tbody>\n",
       "</table>\n",
       "</div>"
      ],
      "text/plain": [
       "         Date Released  Box Office Gross  IMDB Score  Tomatometer\n",
       "Scanners          1981                12         6.8          0.8"
      ]
     },
     "execution_count": 5,
     "metadata": {},
     "output_type": "execute_result"
    }
   ],
   "source": [
    "movies['Date Released'] = ['1994','1981','1984','1992']\n",
    "movies['Box Office Gross'] = [50,12,8,16]\n",
    "movies['IMDB Score'] = [8.8,6.8,6.8,6.4]\n",
    "movies['Tomatometer'] = [.72,.80,.66,.71]\n",
    "\n",
    "movies[1:2]\n",
    "\n",
    "#OR\n",
    "\n",
    "movies.iloc[1:2]"
   ]
  },
  {
   "cell_type": "code",
   "execution_count": 6,
   "metadata": {
    "collapsed": false
   },
   "outputs": [
    {
     "data": {
      "text/html": [
       "<div style=\"max-height:1000px;max-width:1500px;overflow:auto;\">\n",
       "<table border=\"1\" class=\"dataframe\">\n",
       "  <thead>\n",
       "    <tr style=\"text-align: right;\">\n",
       "      <th></th>\n",
       "      <th>IMDB Score</th>\n",
       "      <th>Tomatometer</th>\n",
       "    </tr>\n",
       "  </thead>\n",
       "  <tbody>\n",
       "    <tr>\n",
       "      <th>Forrest Gump</th>\n",
       "      <td> 8.8</td>\n",
       "      <td> 0.72</td>\n",
       "    </tr>\n",
       "    <tr>\n",
       "      <th>Scanners</th>\n",
       "      <td> 6.8</td>\n",
       "      <td> 0.80</td>\n",
       "    </tr>\n",
       "    <tr>\n",
       "      <th>2010: Odyssey Two</th>\n",
       "      <td> 6.8</td>\n",
       "      <td> 0.66</td>\n",
       "    </tr>\n",
       "    <tr>\n",
       "      <th>Fern Gully</th>\n",
       "      <td> 6.4</td>\n",
       "      <td> 0.71</td>\n",
       "    </tr>\n",
       "  </tbody>\n",
       "</table>\n",
       "</div>"
      ],
      "text/plain": [
       "                   IMDB Score  Tomatometer\n",
       "Forrest Gump              8.8         0.72\n",
       "Scanners                  6.8         0.80\n",
       "2010: Odyssey Two         6.8         0.66\n",
       "Fern Gully                6.4         0.71"
      ]
     },
     "execution_count": 6,
     "metadata": {},
     "output_type": "execute_result"
    }
   ],
   "source": [
    "movies[['IMDB Score','Tomatometer']]"
   ]
  },
  {
   "cell_type": "code",
   "execution_count": 7,
   "metadata": {
    "collapsed": false
   },
   "outputs": [
    {
     "data": {
      "text/html": [
       "<div style=\"max-height:1000px;max-width:1500px;overflow:auto;\">\n",
       "<table border=\"1\" class=\"dataframe\">\n",
       "  <thead>\n",
       "    <tr style=\"text-align: right;\">\n",
       "      <th></th>\n",
       "      <th>Date Released</th>\n",
       "      <th>Box Office Gross</th>\n",
       "      <th>IMDB Score</th>\n",
       "      <th>Tomatometer</th>\n",
       "    </tr>\n",
       "  </thead>\n",
       "  <tbody>\n",
       "    <tr>\n",
       "      <th>Scanners</th>\n",
       "      <td> 1981</td>\n",
       "      <td> 12</td>\n",
       "      <td> 6.8</td>\n",
       "      <td> 0.80</td>\n",
       "    </tr>\n",
       "    <tr>\n",
       "      <th>Fern Gully</th>\n",
       "      <td> 1992</td>\n",
       "      <td> 16</td>\n",
       "      <td> 6.4</td>\n",
       "      <td> 0.71</td>\n",
       "    </tr>\n",
       "  </tbody>\n",
       "</table>\n",
       "</div>"
      ],
      "text/plain": [
       "           Date Released  Box Office Gross  IMDB Score  Tomatometer\n",
       "Scanners            1981                12         6.8         0.80\n",
       "Fern Gully          1992                16         6.4         0.71"
      ]
     },
     "execution_count": 7,
     "metadata": {},
     "output_type": "execute_result"
    }
   ],
   "source": [
    "movies[movies['IMDB Score']<(movies['Tomatometer']*10)]"
   ]
  },
  {
   "cell_type": "markdown",
   "metadata": {},
   "source": [
    "<hr>"
   ]
  },
  {
   "cell_type": "markdown",
   "metadata": {},
   "source": [
    "# Adding new elements\n",
    "\n",
    "Columns and rows can be added easily (relatively)"
   ]
  },
  {
   "cell_type": "markdown",
   "metadata": {},
   "source": [
    "Columns can be added by setting a new column to another DataFrame. Just make sure that the indices are compatible!"
   ]
  },
  {
   "cell_type": "code",
   "execution_count": 8,
   "metadata": {
    "collapsed": false
   },
   "outputs": [
    {
     "data": {
      "text/html": [
       "<div style=\"max-height:1000px;max-width:1500px;overflow:auto;\">\n",
       "<table border=\"1\" class=\"dataframe\">\n",
       "  <thead>\n",
       "    <tr style=\"text-align: right;\">\n",
       "      <th></th>\n",
       "      <th>Date Released</th>\n",
       "      <th>Box Office Gross</th>\n",
       "      <th>IMDB Score</th>\n",
       "      <th>Tomatometer</th>\n",
       "      <th>Childhood Top 10?</th>\n",
       "    </tr>\n",
       "  </thead>\n",
       "  <tbody>\n",
       "    <tr>\n",
       "      <th>Forrest Gump</th>\n",
       "      <td> 1994</td>\n",
       "      <td> 50</td>\n",
       "      <td> 8.8</td>\n",
       "      <td> 0.72</td>\n",
       "      <td> True</td>\n",
       "    </tr>\n",
       "    <tr>\n",
       "      <th>Scanners</th>\n",
       "      <td> 1981</td>\n",
       "      <td> 12</td>\n",
       "      <td> 6.8</td>\n",
       "      <td> 0.80</td>\n",
       "      <td> True</td>\n",
       "    </tr>\n",
       "    <tr>\n",
       "      <th>2010: Odyssey Two</th>\n",
       "      <td> 1984</td>\n",
       "      <td>  8</td>\n",
       "      <td> 6.8</td>\n",
       "      <td> 0.66</td>\n",
       "      <td> True</td>\n",
       "    </tr>\n",
       "    <tr>\n",
       "      <th>Fern Gully</th>\n",
       "      <td> 1992</td>\n",
       "      <td> 16</td>\n",
       "      <td> 6.4</td>\n",
       "      <td> 0.71</td>\n",
       "      <td> True</td>\n",
       "    </tr>\n",
       "  </tbody>\n",
       "</table>\n",
       "</div>"
      ],
      "text/plain": [
       "                  Date Released  Box Office Gross  IMDB Score  Tomatometer  \\\n",
       "Forrest Gump               1994                50         8.8         0.72   \n",
       "Scanners                   1981                12         6.8         0.80   \n",
       "2010: Odyssey Two          1984                 8         6.8         0.66   \n",
       "Fern Gully                 1992                16         6.4         0.71   \n",
       "\n",
       "                  Childhood Top 10?  \n",
       "Forrest Gump                   True  \n",
       "Scanners                       True  \n",
       "2010: Odyssey Two              True  \n",
       "Fern Gully                     True  "
      ]
     },
     "execution_count": 8,
     "metadata": {},
     "output_type": "execute_result"
    }
   ],
   "source": [
    "favlist = pd.DataFrame([True,True,True,True],index=movies.index)\n",
    "\n",
    "movies['Childhood Top 10?'] = favlist\n",
    "\n",
    "movies"
   ]
  },
  {
   "cell_type": "markdown",
   "metadata": {},
   "source": [
    "Rows can be added by using the append function on a DataFrame, taking an appropriately index and columned DataFrame that will be added on the end of the first DataFrame."
   ]
  },
  {
   "cell_type": "code",
   "execution_count": 9,
   "metadata": {
    "collapsed": false
   },
   "outputs": [
    {
     "data": {
      "text/html": [
       "<div style=\"max-height:1000px;max-width:1500px;overflow:auto;\">\n",
       "<table border=\"1\" class=\"dataframe\">\n",
       "  <thead>\n",
       "    <tr style=\"text-align: right;\">\n",
       "      <th></th>\n",
       "      <th>Date Released</th>\n",
       "      <th>Box Office Gross</th>\n",
       "      <th>IMDB Score</th>\n",
       "      <th>Tomatometer</th>\n",
       "      <th>Childhood Top 10?</th>\n",
       "    </tr>\n",
       "  </thead>\n",
       "  <tbody>\n",
       "    <tr>\n",
       "      <th>Forrest Gump</th>\n",
       "      <td> 1994</td>\n",
       "      <td> 50</td>\n",
       "      <td> 8.8</td>\n",
       "      <td> 0.72</td>\n",
       "      <td>  True</td>\n",
       "    </tr>\n",
       "    <tr>\n",
       "      <th>Scanners</th>\n",
       "      <td> 1981</td>\n",
       "      <td> 12</td>\n",
       "      <td> 6.8</td>\n",
       "      <td>  0.8</td>\n",
       "      <td>  True</td>\n",
       "    </tr>\n",
       "    <tr>\n",
       "      <th>2010: Odyssey Two</th>\n",
       "      <td> 1984</td>\n",
       "      <td>  8</td>\n",
       "      <td> 6.8</td>\n",
       "      <td> 0.66</td>\n",
       "      <td>  True</td>\n",
       "    </tr>\n",
       "    <tr>\n",
       "      <th>Fern Gully</th>\n",
       "      <td> 1992</td>\n",
       "      <td> 16</td>\n",
       "      <td> 6.4</td>\n",
       "      <td> 0.71</td>\n",
       "      <td>  True</td>\n",
       "    </tr>\n",
       "    <tr>\n",
       "      <th>Wild Wild West</th>\n",
       "      <td> 1999</td>\n",
       "      <td>  2</td>\n",
       "      <td> 4.8</td>\n",
       "      <td> 0.17</td>\n",
       "      <td> False</td>\n",
       "    </tr>\n",
       "  </tbody>\n",
       "</table>\n",
       "</div>"
      ],
      "text/plain": [
       "                  Date Released Box Office Gross IMDB Score Tomatometer  \\\n",
       "Forrest Gump               1994               50        8.8        0.72   \n",
       "Scanners                   1981               12        6.8         0.8   \n",
       "2010: Odyssey Two          1984                8        6.8        0.66   \n",
       "Fern Gully                 1992               16        6.4        0.71   \n",
       "Wild Wild West             1999                2        4.8        0.17   \n",
       "\n",
       "                  Childhood Top 10?  \n",
       "Forrest Gump                   True  \n",
       "Scanners                       True  \n",
       "2010: Odyssey Two              True  \n",
       "Fern Gully                     True  \n",
       "Wild Wild West                False  "
      ]
     },
     "execution_count": 9,
     "metadata": {},
     "output_type": "execute_result"
    }
   ],
   "source": [
    "wildwildwest = pd.DataFrame(index=['Wild Wild West'], columns=movies.columns)\n",
    "\n",
    "wildwildwest.iloc[0] = ['1999', 2, 4.8,.17,False]\n",
    "\n",
    "movies.append(wildwildwest)"
   ]
  },
  {
   "cell_type": "markdown",
   "metadata": {},
   "source": [
    "The concat function is also very useful. It can handle DataFrames with different indices and/or columns. There are multiple ways to joining the indices and columns however you would like"
   ]
  },
  {
   "cell_type": "code",
   "execution_count": 11,
   "metadata": {
    "collapsed": false
   },
   "outputs": [
    {
     "data": {
      "text/html": [
       "<div style=\"max-height:1000px;max-width:1500px;overflow:auto;\">\n",
       "<table border=\"1\" class=\"dataframe\">\n",
       "  <thead>\n",
       "    <tr style=\"text-align: right;\">\n",
       "      <th></th>\n",
       "      <th>Date Released</th>\n",
       "      <th>Box Office Gross</th>\n",
       "      <th>IMDB Score</th>\n",
       "      <th>Tomatometer</th>\n",
       "      <th>Childhood Top 10?</th>\n",
       "    </tr>\n",
       "  </thead>\n",
       "  <tbody>\n",
       "    <tr>\n",
       "      <th>Forrest Gump</th>\n",
       "      <td> 1994</td>\n",
       "      <td> 50</td>\n",
       "      <td> 8.8</td>\n",
       "      <td> 0.72</td>\n",
       "      <td> True</td>\n",
       "    </tr>\n",
       "    <tr>\n",
       "      <th>Scanners</th>\n",
       "      <td> 1981</td>\n",
       "      <td> 12</td>\n",
       "      <td> 6.8</td>\n",
       "      <td> 0.80</td>\n",
       "      <td> True</td>\n",
       "    </tr>\n",
       "    <tr>\n",
       "      <th>2010: Odyssey Two</th>\n",
       "      <td> 1984</td>\n",
       "      <td>  8</td>\n",
       "      <td> 6.8</td>\n",
       "      <td> 0.66</td>\n",
       "      <td> True</td>\n",
       "    </tr>\n",
       "    <tr>\n",
       "      <th>Fern Gully</th>\n",
       "      <td> 1992</td>\n",
       "      <td> 16</td>\n",
       "      <td> 6.4</td>\n",
       "      <td> 0.71</td>\n",
       "      <td> True</td>\n",
       "    </tr>\n",
       "    <tr>\n",
       "      <th>Forrest Gump</th>\n",
       "      <td> 1994</td>\n",
       "      <td> 50</td>\n",
       "      <td> 8.8</td>\n",
       "      <td> 0.72</td>\n",
       "      <td> True</td>\n",
       "    </tr>\n",
       "    <tr>\n",
       "      <th>Scanners</th>\n",
       "      <td> 1981</td>\n",
       "      <td> 12</td>\n",
       "      <td> 6.8</td>\n",
       "      <td> 0.80</td>\n",
       "      <td> True</td>\n",
       "    </tr>\n",
       "    <tr>\n",
       "      <th>2010: Odyssey Two</th>\n",
       "      <td> 1984</td>\n",
       "      <td>  8</td>\n",
       "      <td> 6.8</td>\n",
       "      <td> 0.66</td>\n",
       "      <td> True</td>\n",
       "    </tr>\n",
       "    <tr>\n",
       "      <th>Fern Gully</th>\n",
       "      <td> 1992</td>\n",
       "      <td> 16</td>\n",
       "      <td> 6.4</td>\n",
       "      <td> 0.71</td>\n",
       "      <td> True</td>\n",
       "    </tr>\n",
       "  </tbody>\n",
       "</table>\n",
       "</div>"
      ],
      "text/plain": [
       "                  Date Released  Box Office Gross  IMDB Score  Tomatometer  \\\n",
       "Forrest Gump               1994                50         8.8         0.72   \n",
       "Scanners                   1981                12         6.8         0.80   \n",
       "2010: Odyssey Two          1984                 8         6.8         0.66   \n",
       "Fern Gully                 1992                16         6.4         0.71   \n",
       "Forrest Gump               1994                50         8.8         0.72   \n",
       "Scanners                   1981                12         6.8         0.80   \n",
       "2010: Odyssey Two          1984                 8         6.8         0.66   \n",
       "Fern Gully                 1992                16         6.4         0.71   \n",
       "\n",
       "                  Childhood Top 10?  \n",
       "Forrest Gump                   True  \n",
       "Scanners                       True  \n",
       "2010: Odyssey Two              True  \n",
       "Fern Gully                     True  \n",
       "Forrest Gump                   True  \n",
       "Scanners                       True  \n",
       "2010: Odyssey Two              True  \n",
       "Fern Gully                     True  "
      ]
     },
     "execution_count": 11,
     "metadata": {},
     "output_type": "execute_result"
    }
   ],
   "source": [
    "pd.concat([movies,movies])"
   ]
  },
  {
   "cell_type": "markdown",
   "metadata": {},
   "source": [
    "<hr>"
   ]
  },
  {
   "cell_type": "markdown",
   "metadata": {},
   "source": [
    "# The Amazing GroupBy\n",
    "\n",
    "Pandas.GroupBy is a great function that allows you to process your data in many different ways without having to get fancy or write any loops.\n",
    "\n",
    "\n",
    "Essentially, it carries out three different steps:\n",
    "\n",
    "**Splitting** the data into different groups [eg. treatment condition]\n",
    "\n",
    "**Applying** some function to your data [eg. mean]\n",
    "\n",
    "**Combining** the results back into another DataFrame\n",
    "\n",
    "In my work, this function was extremely useful when I wanted to obtain the mean *time spent in target zone* for each of my treatment groups\n"
   ]
  },
  {
   "cell_type": "code",
   "execution_count": 12,
   "metadata": {
    "collapsed": false
   },
   "outputs": [
    {
     "data": {
      "text/html": [
       "<div style=\"max-height:1000px;max-width:1500px;overflow:auto;\">\n",
       "<table border=\"1\" class=\"dataframe\">\n",
       "  <thead>\n",
       "    <tr style=\"text-align: right;\">\n",
       "      <th></th>\n",
       "      <th>Animal</th>\n",
       "      <th>Date</th>\n",
       "      <th>Group</th>\n",
       "      <th>Time to platform</th>\n",
       "      <th>Trial duration</th>\n",
       "      <th>Distance travelled (cm)</th>\n",
       "      <th>Average speed</th>\n",
       "      <th>% time near walls</th>\n",
       "      <th>Direction</th>\n",
       "      <th>Average Proximity</th>\n",
       "      <th>Cumulative Proximity</th>\n",
       "      <th>Whishaw's corridor</th>\n",
       "      <th>Platform Quadrant</th>\n",
       "      <th>Zone 1 %</th>\n",
       "      <th>Target Zone %</th>\n",
       "      <th>Zone 3 %</th>\n",
       "      <th>Zone 4 %</th>\n",
       "    </tr>\n",
       "  </thead>\n",
       "  <tbody>\n",
       "    <tr>\n",
       "      <th>0</th>\n",
       "      <td> m1</td>\n",
       "      <td> 2/1/2015</td>\n",
       "      <td> APP</td>\n",
       "      <td> 10.724</td>\n",
       "      <td> 59.988</td>\n",
       "      <td> 1482.678</td>\n",
       "      <td> 24.716</td>\n",
       "      <td> 6.918</td>\n",
       "      <td>-117.097</td>\n",
       "      <td> 45.391</td>\n",
       "      <td> 2064.426</td>\n",
       "      <td> 46.541</td>\n",
       "      <td> 4</td>\n",
       "      <td>  2.935</td>\n",
       "      <td> 17.820</td>\n",
       "      <td> 31.447</td>\n",
       "      <td>  8.805</td>\n",
       "    </tr>\n",
       "    <tr>\n",
       "      <th>1</th>\n",
       "      <td> m2</td>\n",
       "      <td> 2/1/2015</td>\n",
       "      <td> GFP</td>\n",
       "      <td>  8.235</td>\n",
       "      <td> 59.898</td>\n",
       "      <td> 1298.611</td>\n",
       "      <td> 21.680</td>\n",
       "      <td> 2.516</td>\n",
       "      <td>  52.129</td>\n",
       "      <td> 47.077</td>\n",
       "      <td> 1232.864</td>\n",
       "      <td> 37.736</td>\n",
       "      <td> 4</td>\n",
       "      <td>  4.822</td>\n",
       "      <td> 50.943</td>\n",
       "      <td> 15.514</td>\n",
       "      <td>  0.629</td>\n",
       "    </tr>\n",
       "    <tr>\n",
       "      <th>2</th>\n",
       "      <td> m3</td>\n",
       "      <td> 2/1/2015</td>\n",
       "      <td> GFP</td>\n",
       "      <td>  0.000</td>\n",
       "      <td> 59.944</td>\n",
       "      <td> 1562.190</td>\n",
       "      <td> 26.061</td>\n",
       "      <td> 2.096</td>\n",
       "      <td>  -0.502</td>\n",
       "      <td> 36.535</td>\n",
       "      <td> 1799.688</td>\n",
       "      <td> 54.717</td>\n",
       "      <td> 4</td>\n",
       "      <td>  5.451</td>\n",
       "      <td> 34.382</td>\n",
       "      <td> 10.273</td>\n",
       "      <td>  3.774</td>\n",
       "    </tr>\n",
       "    <tr>\n",
       "      <th>3</th>\n",
       "      <td> m4</td>\n",
       "      <td> 2/1/2015</td>\n",
       "      <td> APP</td>\n",
       "      <td>  7.102</td>\n",
       "      <td> 59.896</td>\n",
       "      <td> 1157.948</td>\n",
       "      <td> 19.333</td>\n",
       "      <td> 0.000</td>\n",
       "      <td>  51.561</td>\n",
       "      <td> 41.952</td>\n",
       "      <td> 1392.255</td>\n",
       "      <td> 39.203</td>\n",
       "      <td> 4</td>\n",
       "      <td> 11.530</td>\n",
       "      <td> 37.945</td>\n",
       "      <td> 16.352</td>\n",
       "      <td>  0.210</td>\n",
       "    </tr>\n",
       "    <tr>\n",
       "      <th>4</th>\n",
       "      <td> m5</td>\n",
       "      <td> 2/1/2015</td>\n",
       "      <td> GFP</td>\n",
       "      <td> 14.931</td>\n",
       "      <td> 59.912</td>\n",
       "      <td> 1310.405</td>\n",
       "      <td> 21.872</td>\n",
       "      <td> 0.000</td>\n",
       "      <td> -21.198</td>\n",
       "      <td> 70.274</td>\n",
       "      <td> 1550.027</td>\n",
       "      <td> 49.476</td>\n",
       "      <td> 4</td>\n",
       "      <td>  6.709</td>\n",
       "      <td> 35.430</td>\n",
       "      <td> 18.658</td>\n",
       "      <td>  5.451</td>\n",
       "    </tr>\n",
       "    <tr>\n",
       "      <th>5</th>\n",
       "      <td> m6</td>\n",
       "      <td> 2/1/2015</td>\n",
       "      <td> APP</td>\n",
       "      <td> 17.235</td>\n",
       "      <td> 59.948</td>\n",
       "      <td> 1348.853</td>\n",
       "      <td> 22.500</td>\n",
       "      <td> 0.419</td>\n",
       "      <td>-131.100</td>\n",
       "      <td> 29.144</td>\n",
       "      <td> 1747.719</td>\n",
       "      <td> 61.845</td>\n",
       "      <td> 4</td>\n",
       "      <td>  6.080</td>\n",
       "      <td> 35.220</td>\n",
       "      <td> 14.046</td>\n",
       "      <td>  8.386</td>\n",
       "    </tr>\n",
       "    <tr>\n",
       "      <th>6</th>\n",
       "      <td> m7</td>\n",
       "      <td> 2/1/2015</td>\n",
       "      <td> GFP</td>\n",
       "      <td>  5.086</td>\n",
       "      <td> 59.897</td>\n",
       "      <td> 1402.622</td>\n",
       "      <td> 23.417</td>\n",
       "      <td> 0.839</td>\n",
       "      <td>  30.670</td>\n",
       "      <td> 44.798</td>\n",
       "      <td> 1832.923</td>\n",
       "      <td> 45.073</td>\n",
       "      <td> 4</td>\n",
       "      <td>  7.128</td>\n",
       "      <td> 35.849</td>\n",
       "      <td> 18.658</td>\n",
       "      <td>  5.031</td>\n",
       "    </tr>\n",
       "    <tr>\n",
       "      <th>7</th>\n",
       "      <td> m8</td>\n",
       "      <td> 2/1/2015</td>\n",
       "      <td> APP</td>\n",
       "      <td>  3.899</td>\n",
       "      <td> 59.969</td>\n",
       "      <td> 1686.095</td>\n",
       "      <td> 28.116</td>\n",
       "      <td> 6.289</td>\n",
       "      <td> 115.868</td>\n",
       "      <td> 49.414</td>\n",
       "      <td> 2482.494</td>\n",
       "      <td> 62.474</td>\n",
       "      <td> 4</td>\n",
       "      <td>  3.774</td>\n",
       "      <td> 15.094</td>\n",
       "      <td> 27.254</td>\n",
       "      <td> 13.627</td>\n",
       "    </tr>\n",
       "  </tbody>\n",
       "</table>\n",
       "</div>"
      ],
      "text/plain": [
       "  Animal      Date Group  Time to platform  Trial duration  \\\n",
       "0     m1  2/1/2015   APP            10.724          59.988   \n",
       "1     m2  2/1/2015   GFP             8.235          59.898   \n",
       "2     m3  2/1/2015   GFP             0.000          59.944   \n",
       "3     m4  2/1/2015   APP             7.102          59.896   \n",
       "4     m5  2/1/2015   GFP            14.931          59.912   \n",
       "5     m6  2/1/2015   APP            17.235          59.948   \n",
       "6     m7  2/1/2015   GFP             5.086          59.897   \n",
       "7     m8  2/1/2015   APP             3.899          59.969   \n",
       "\n",
       "   Distance travelled (cm)  Average speed  % time near walls  Direction  \\\n",
       "0                 1482.678         24.716              6.918   -117.097   \n",
       "1                 1298.611         21.680              2.516     52.129   \n",
       "2                 1562.190         26.061              2.096     -0.502   \n",
       "3                 1157.948         19.333              0.000     51.561   \n",
       "4                 1310.405         21.872              0.000    -21.198   \n",
       "5                 1348.853         22.500              0.419   -131.100   \n",
       "6                 1402.622         23.417              0.839     30.670   \n",
       "7                 1686.095         28.116              6.289    115.868   \n",
       "\n",
       "   Average Proximity  Cumulative Proximity  Whishaw's corridor  \\\n",
       "0             45.391              2064.426              46.541   \n",
       "1             47.077              1232.864              37.736   \n",
       "2             36.535              1799.688              54.717   \n",
       "3             41.952              1392.255              39.203   \n",
       "4             70.274              1550.027              49.476   \n",
       "5             29.144              1747.719              61.845   \n",
       "6             44.798              1832.923              45.073   \n",
       "7             49.414              2482.494              62.474   \n",
       "\n",
       "   Platform Quadrant  Zone 1 %  Target Zone %  Zone 3 %  Zone 4 %  \n",
       "0                  4     2.935         17.820    31.447     8.805  \n",
       "1                  4     4.822         50.943    15.514     0.629  \n",
       "2                  4     5.451         34.382    10.273     3.774  \n",
       "3                  4    11.530         37.945    16.352     0.210  \n",
       "4                  4     6.709         35.430    18.658     5.451  \n",
       "5                  4     6.080         35.220    14.046     8.386  \n",
       "6                  4     7.128         35.849    18.658     5.031  \n",
       "7                  4     3.774         15.094    27.254    13.627  "
      ]
     },
     "execution_count": 12,
     "metadata": {},
     "output_type": "execute_result"
    }
   ],
   "source": [
    "probedata"
   ]
  },
  {
   "cell_type": "code",
   "execution_count": 13,
   "metadata": {
    "collapsed": false
   },
   "outputs": [
    {
     "data": {
      "text/html": [
       "<div style=\"max-height:1000px;max-width:1500px;overflow:auto;\">\n",
       "<table border=\"1\" class=\"dataframe\">\n",
       "  <thead>\n",
       "    <tr style=\"text-align: right;\">\n",
       "      <th></th>\n",
       "      <th>Time to platform</th>\n",
       "      <th>Trial duration</th>\n",
       "      <th>Distance travelled (cm)</th>\n",
       "      <th>Average speed</th>\n",
       "      <th>% time near walls</th>\n",
       "      <th>Direction</th>\n",
       "      <th>Average Proximity</th>\n",
       "      <th>Cumulative Proximity</th>\n",
       "      <th>Whishaw's corridor</th>\n",
       "      <th>Platform Quadrant</th>\n",
       "      <th>Zone 1 %</th>\n",
       "      <th>Target Zone %</th>\n",
       "      <th>Zone 3 %</th>\n",
       "      <th>Zone 4 %</th>\n",
       "    </tr>\n",
       "    <tr>\n",
       "      <th>Group</th>\n",
       "      <th></th>\n",
       "      <th></th>\n",
       "      <th></th>\n",
       "      <th></th>\n",
       "      <th></th>\n",
       "      <th></th>\n",
       "      <th></th>\n",
       "      <th></th>\n",
       "      <th></th>\n",
       "      <th></th>\n",
       "      <th></th>\n",
       "      <th></th>\n",
       "      <th></th>\n",
       "      <th></th>\n",
       "    </tr>\n",
       "  </thead>\n",
       "  <tbody>\n",
       "    <tr>\n",
       "      <th>APP</th>\n",
       "      <td> 9.740</td>\n",
       "      <td> 59.95025</td>\n",
       "      <td> 1418.8935</td>\n",
       "      <td> 23.66625</td>\n",
       "      <td> 3.40650</td>\n",
       "      <td>-20.19200</td>\n",
       "      <td> 41.47525</td>\n",
       "      <td> 1921.7235</td>\n",
       "      <td> 52.51575</td>\n",
       "      <td> 4</td>\n",
       "      <td> 6.07975</td>\n",
       "      <td> 26.51975</td>\n",
       "      <td> 22.27475</td>\n",
       "      <td> 7.75700</td>\n",
       "    </tr>\n",
       "    <tr>\n",
       "      <th>GFP</th>\n",
       "      <td> 7.063</td>\n",
       "      <td> 59.91275</td>\n",
       "      <td> 1393.4570</td>\n",
       "      <td> 23.25750</td>\n",
       "      <td> 1.36275</td>\n",
       "      <td> 15.27475</td>\n",
       "      <td> 49.67100</td>\n",
       "      <td> 1603.8755</td>\n",
       "      <td> 46.75050</td>\n",
       "      <td> 4</td>\n",
       "      <td> 6.02750</td>\n",
       "      <td> 39.15100</td>\n",
       "      <td> 15.77575</td>\n",
       "      <td> 3.72125</td>\n",
       "    </tr>\n",
       "  </tbody>\n",
       "</table>\n",
       "</div>"
      ],
      "text/plain": [
       "       Time to platform  Trial duration  Distance travelled (cm)  \\\n",
       "Group                                                              \n",
       "APP               9.740        59.95025                1418.8935   \n",
       "GFP               7.063        59.91275                1393.4570   \n",
       "\n",
       "       Average speed  % time near walls  Direction  Average Proximity  \\\n",
       "Group                                                                   \n",
       "APP         23.66625            3.40650  -20.19200           41.47525   \n",
       "GFP         23.25750            1.36275   15.27475           49.67100   \n",
       "\n",
       "       Cumulative Proximity  Whishaw's corridor  Platform Quadrant  Zone 1 %  \\\n",
       "Group                                                                          \n",
       "APP               1921.7235            52.51575                  4   6.07975   \n",
       "GFP               1603.8755            46.75050                  4   6.02750   \n",
       "\n",
       "       Target Zone %  Zone 3 %  Zone 4 %  \n",
       "Group                                     \n",
       "APP         26.51975  22.27475   7.75700  \n",
       "GFP         39.15100  15.77575   3.72125  "
      ]
     },
     "execution_count": 13,
     "metadata": {},
     "output_type": "execute_result"
    }
   ],
   "source": [
    "grouped = probedata.groupby(['Group']).mean()\n",
    "\n",
    "grouped"
   ]
  },
  {
   "cell_type": "code",
   "execution_count": 14,
   "metadata": {
    "collapsed": false
   },
   "outputs": [],
   "source": [
    "    import matplotlib.pylab as plt\n",
    "    import seaborn as sns\n",
    "    \n",
    "    sns.set_context(\"talk\")\n",
    "    grouped[['Zone 1 %','Target Zone %','Zone 3 %','Zone 4 %']].plot(kind='bar')\n",
    "    plt.title('Time spent in Zone')\n",
    "    plt.ylabel('Time (sec)')\n",
    "    plt.xlabel('Zone')\n",
    "    locs, labels = plt.xticks()\n",
    "    plt.setp(labels,rotation=0)\n",
    "    plt.show()"
   ]
  },
  {
   "cell_type": "code",
   "execution_count": null,
   "metadata": {
    "collapsed": true
   },
   "outputs": [],
   "source": []
  }
 ],
 "metadata": {
  "kernelspec": {
   "display_name": "Python 3",
   "language": "python",
   "name": "python3"
  },
  "language_info": {
   "codemirror_mode": {
    "name": "ipython",
    "version": 3
   },
   "file_extension": ".py",
   "mimetype": "text/x-python",
   "name": "python",
   "nbconvert_exporter": "python",
   "pygments_lexer": "ipython3",
   "version": "3.4.3"
  }
 },
 "nbformat": 4,
 "nbformat_minor": 0
}
